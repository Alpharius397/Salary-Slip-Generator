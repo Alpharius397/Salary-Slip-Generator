{
 "cells": [
  {
   "cell_type": "code",
   "execution_count": null,
   "metadata": {},
   "outputs": [],
   "source": [
    "class A():\n",
    "    def __init__(self):\n",
    "        self.a = 'a'\n",
    "\n",
    "\n",
    "    class ab():\n",
    "        def __init__(self) -> None:\n",
    "            self.a='b'\n",
    "            print(self)"
   ]
  },
  {
   "cell_type": "code",
   "execution_count": null,
   "metadata": {},
   "outputs": [],
   "source": [
    "a = A()\n",
    "a"
   ]
  },
  {
   "cell_type": "code",
   "execution_count": null,
   "metadata": {},
   "outputs": [],
   "source": [
    "from collections import defaultdict\n",
    "a={1:0}\n",
    "memo = defaultdict(list)\n",
    "memo[0] += [1] + [1]\n",
    "print(memo[0])"
   ]
  },
  {
   "cell_type": "code",
   "execution_count": null,
   "metadata": {},
   "outputs": [],
   "source": [
    "import pandas as pd\n",
    "\n",
    "asd = pd.read_excel('C:/Users/RAJ/Downloads/Sample sheet for salary calculation and salary slip (1).xlsx',dtype=str)\n",
    "\n",
    "map = {}\n",
    "\n",
    "\"\"\"for i in asd.keys():\n",
    "    if 'teaching' in i.lower():\n",
    "        if 'non' in i.lower():\n",
    "            map['non-teach'] = i\n",
    "        elif 'temp' in i.lower():\n",
    "            map['temp'] = i\n",
    "        else:\n",
    "            map['teach'] = i\n",
    "    \n",
    "    elif 'svv' in i.lower():\n",
    "        if 'salary' in i.lower():\n",
    "            map['svv-salary'] = i\"\"\"\n",
    "\n",
    "\n",
    "asd[asd['HR EMP CODE']==220309]"
   ]
  },
  {
   "cell_type": "code",
   "execution_count": null,
   "metadata": {},
   "outputs": [],
   "source": [
    "class Person:\n",
    "    def __init__(self, fname, lname):\n",
    "        self.firstname = fname\n",
    "        self.lastname = lname\n",
    "\n",
    "    def printname(self):\n",
    "        print(self.lastname)\n",
    "\n",
    "class Person1:\n",
    "    def __init__(self, fname, lname):\n",
    "        self.firstname = fname\n",
    "        self.lastname = lname\n",
    "\n",
    "    def printname(self):\n",
    "        print(self.lastname)\n",
    "\n",
    "    def printself(self):\n",
    "        print(\"1\")\n",
    "\n",
    "class Person2:\n",
    "    def __init__(self, fname, lname):\n",
    "        self.firstname = fname\n",
    "        self.lastname = lname\n",
    "\n",
    "    def printname(self):\n",
    "        print('EEE')\n",
    "\n",
    "    def printself(self):\n",
    "        print(\"1\")\n",
    "\n",
    "class Student(Person,Person1,Person2):\n",
    "    def __init__(self,fnam,lname):\n",
    "        self.grade = 10\n",
    "    \n",
    "    def printname(self):\n",
    "        Person2(None,None).printname()\n",
    "\n",
    "x = Student(\"Mike\", \"Olsen\")\n",
    "x.printname()\n"
   ]
  },
  {
   "cell_type": "code",
   "execution_count": null,
   "metadata": {},
   "outputs": [],
   "source": [
    "import os\n",
    "\n",
    "import pandas as pd\n",
    "\n",
    "pd.read_excel('modified_sample_with_payslip.xlsx')"
   ]
  },
  {
   "cell_type": "code",
   "execution_count": 11,
   "metadata": {},
   "outputs": [
    {
     "name": "stdout",
     "output_type": "stream",
     "text": [
      "<_io.TextIOWrapper name='C:/Users/RAJ/Downloads/PDF/Excel-to-Pdf-Generator/cool.pdf' mode='w' encoding='UTF-8'>\n"
     ]
    }
   ],
   "source": [
    "# importing all files  from tkinter \n",
    "from tkinter import * \n",
    "from tkinter import ttk \n",
    "  \n",
    "# import only asksaveasfile from filedialog \n",
    "# which is used to save file in any extension \n",
    "from tkinter.filedialog import asksaveasfile \n",
    "  \n",
    "root = Tk() \n",
    "root.geometry('200x150') \n",
    "  \n",
    "# function to call when user press \n",
    "# the save button, a filedialog will \n",
    "# open and ask to save file \n",
    "def save(): \n",
    "    files = [  ('Python Files', '*.pdf'), ] \n",
    "    file = asksaveasfile(filetypes = files,defaultextension='.pdf',initialfile='cool') \n",
    "    print(file)\n",
    "btn = ttk.Button(root, text = 'Save', command = lambda : save()) \n",
    "btn.pack(side = TOP, pady = 20) \n",
    "  \n",
    "mainloop() "
   ]
  },
  {
   "cell_type": "code",
   "execution_count": 15,
   "metadata": {},
   "outputs": [],
   "source": [
    "import os\n",
    "dir = ['asd','asd1']\n",
    "os.makedirs('ads1/ad')"
   ]
  },
  {
   "cell_type": "code",
   "execution_count": null,
   "metadata": {},
   "outputs": [],
   "source": [
    "import tkinter as tk\n",
    "from tkinter import messagebox\n",
    "def confirm_exit():\n",
    "    response = messagebox.askyesnocancel(\"Confirm Exit\", \"Want to save changes before exiting?\")\n",
    "    if response is None:\n",
    "        # User clicked \"Cancel\"\n",
    "        return\n",
    "    elif response:\n",
    "        # User clicked \"Yes,\"  \n",
    "        save_changes()\n",
    "    # Close the application\n",
    "    root.destroy()\n",
    "\n",
    "def save_changes():\n",
    "    # Implement your save changes logic here\n",
    "    messagebox.showinfo(\"Saved\", \"Saved successfully!\")\n",
    "\n",
    "root = tk.Tk()\n",
    "root.title(\"Exit Example\")\n",
    "exit_button = tk.Button(root, text=\"Exit\", command=confirm_exit)\n",
    "exit_button.pack(padx=20, pady=20)\n",
    "root.mainloop()"
   ]
  },
  {
   "cell_type": "code",
   "execution_count": null,
   "metadata": {},
   "outputs": [],
   "source": [
    "import tkinter as tk\n",
    "\n",
    "root = tk.Tk()\n",
    "\n",
    "textContainer = tk.Frame(root, borderwidth=1, relief=\"sunken\")\n",
    "text = tk.Text(textContainer, text='asd',width=24, height=13, wrap=\"none\", borderwidth=0)\n",
    "textVsb = tk.Scrollbar(textContainer, orient=\"vertical\", command=text.yview)\n",
    "textHsb = tk.Scrollbar(textContainer, orient=\"horizontal\", command=text.xview)\n",
    "text.configure(yscrollcommand=textVsb.set, xscrollcommand=textHsb.set)\n",
    "\n",
    "\n",
    "\n",
    "\n",
    "\n",
    "textContainer.pack(side=\"top\", fill=\"both\", expand=True)\n",
    "\n",
    "root.mainloop()"
   ]
  }
 ],
 "metadata": {
  "kernelspec": {
   "display_name": "tf",
   "language": "python",
   "name": "python3"
  },
  "language_info": {
   "codemirror_mode": {
    "name": "ipython",
    "version": 3
   },
   "file_extension": ".py",
   "mimetype": "text/x-python",
   "name": "python",
   "nbconvert_exporter": "python",
   "pygments_lexer": "ipython3",
   "version": "3.9.19"
  }
 },
 "nbformat": 4,
 "nbformat_minor": 2
}
