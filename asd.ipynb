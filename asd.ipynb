{
 "cells": [
  {
   "cell_type": "code",
   "execution_count": 4,
   "metadata": {},
   "outputs": [],
   "source": [
    "class A():\n",
    "    def __init__(self):\n",
    "        self.a = 'a'\n",
    "\n",
    "\n",
    "    class ab():\n",
    "        def __init__(self) -> None:\n",
    "            self.a='b'\n",
    "            print(self)"
   ]
  },
  {
   "cell_type": "code",
   "execution_count": 5,
   "metadata": {},
   "outputs": [
    {
     "data": {
      "text/plain": [
       "<__main__.A at 0x13c045fc220>"
      ]
     },
     "execution_count": 5,
     "metadata": {},
     "output_type": "execute_result"
    }
   ],
   "source": [
    "a = A()\n",
    "a"
   ]
  },
  {
   "cell_type": "code",
   "execution_count": 6,
   "metadata": {},
   "outputs": [
    {
     "name": "stdout",
     "output_type": "stream",
     "text": [
      "[1, 1]\n"
     ]
    }
   ],
   "source": [
    "from collections import defaultdict\n",
    "a={1:0}\n",
    "memo = defaultdict(list)\n",
    "memo[0] += [1] + [1]\n",
    "print(memo[0])"
   ]
  },
  {
   "cell_type": "code",
   "execution_count": 7,
   "metadata": {},
   "outputs": [
    {
     "data": {
      "text/html": [
       "<div>\n",
       "<style scoped>\n",
       "    .dataframe tbody tr th:only-of-type {\n",
       "        vertical-align: middle;\n",
       "    }\n",
       "\n",
       "    .dataframe tbody tr th {\n",
       "        vertical-align: top;\n",
       "    }\n",
       "\n",
       "    .dataframe thead th {\n",
       "        text-align: right;\n",
       "    }\n",
       "</style>\n",
       "<table border=\"1\" class=\"dataframe\">\n",
       "  <thead>\n",
       "    <tr style=\"text-align: right;\">\n",
       "      <th></th>\n",
       "      <th>Unnamed: 0</th>\n",
       "      <th>HR EMP CODE</th>\n",
       "      <th>NAME OF STAFF</th>\n",
       "      <th>ORG. \\nBASIC</th>\n",
       "      <th>Basic \\nSalary</th>\n",
       "      <th>AGP/GP</th>\n",
       "      <th>DA 0% w.e.f April 2023</th>\n",
       "      <th>HRA\\n24%</th>\n",
       "      <th>CLA</th>\n",
       "      <th>TA</th>\n",
       "      <th>...</th>\n",
       "      <th>LIC</th>\n",
       "      <th>PERSONAL \\nLOAN/Staff Loan From Bank</th>\n",
       "      <th>STAFF LOAN / \\nDIWALI FESTIVAL /Festival Advance</th>\n",
       "      <th>STAFF \\nADVANCE /Advance To Employees /staff</th>\n",
       "      <th>Medical Policy\\n Mar 20 to Feb  21</th>\n",
       "      <th>KJSIEIT EMPOYEES CO-OP \\nCREDIT SOCITY LTD</th>\n",
       "      <th>Union Fees</th>\n",
       "      <th>Other Deducation</th>\n",
       "      <th>TOTAL DE\\nDUCTION</th>\n",
       "      <th>NET \\nSALARY</th>\n",
       "    </tr>\n",
       "  </thead>\n",
       "  <tbody>\n",
       "  </tbody>\n",
       "</table>\n",
       "<p>0 rows × 32 columns</p>\n",
       "</div>"
      ],
      "text/plain": [
       "Empty DataFrame\n",
       "Columns: [Unnamed: 0, HR EMP CODE, NAME OF STAFF, ORG. \n",
       "BASIC, Basic \n",
       "Salary, AGP/GP, DA 0% w.e.f April 2023, HRA\n",
       "24%, CLA, TA , Vehicle & Driver All, Salary Arrers/ Special Other Allowance/Rem, Books and Periodicals \n",
       "and Client Entertainment exp, Telephone, LTA \n",
       "Alw, EX- \n",
       "Grataia , Entertainment Allw.\n",
       " PER MONT, EXAM REM / OTHER, GROSS \n",
       "SALARY, PROF\n",
       " TAX, PF Rs780/ to1800 from sep 2014, for may 20. 10% lockdown , TDS, LIC, PERSONAL \n",
       "LOAN/Staff Loan From Bank, STAFF LOAN / \n",
       "DIWALI FESTIVAL /Festival Advance , STAFF \n",
       "ADVANCE /Advance To Employees /staff, Medical Policy\n",
       " Mar 20 to Feb  21 , KJSIEIT EMPOYEES CO-OP \n",
       "CREDIT SOCITY LTD, Union Fees, Other Deducation, TOTAL DE\n",
       "DUCTION, NET \n",
       "SALARY]\n",
       "Index: []\n",
       "\n",
       "[0 rows x 32 columns]"
      ]
     },
     "execution_count": 7,
     "metadata": {},
     "output_type": "execute_result"
    }
   ],
   "source": [
    "import pandas as pd\n",
    "\n",
    "asd = pd.read_excel('C:/Users/RAJ/Downloads/Sample sheet for salary calculation and salary slip (1).xlsx',dtype=str)\n",
    "\n",
    "map = {}\n",
    "\n",
    "\"\"\"for i in asd.keys():\n",
    "    if 'teaching' in i.lower():\n",
    "        if 'non' in i.lower():\n",
    "            map['non-teach'] = i\n",
    "        elif 'temp' in i.lower():\n",
    "            map['temp'] = i\n",
    "        else:\n",
    "            map['teach'] = i\n",
    "    \n",
    "    elif 'svv' in i.lower():\n",
    "        if 'salary' in i.lower():\n",
    "            map['svv-salary'] = i\"\"\"\n",
    "\n",
    "\n",
    "asd[asd['HR EMP CODE']==220309]"
   ]
  },
  {
   "cell_type": "code",
   "execution_count": 8,
   "metadata": {},
   "outputs": [],
   "source": [
    "import tkinter as tk\n",
    "from tkinter import messagebox\n",
    "def confirm_exit():\n",
    "    response = messagebox.askyesnocancel(\"Confirm Exit\", \"Want to save changes before exiting?\")\n",
    "    if response is None:\n",
    "        # User clicked \"Cancel\"\n",
    "        return\n",
    "    elif response:\n",
    "        # User clicked \"Yes,\"  \n",
    "        save_changes()\n",
    "    # Close the application\n",
    "    root.destroy()\n",
    "\n",
    "def save_changes():\n",
    "    # Implement your save changes logic here\n",
    "    messagebox.showinfo(\"Saved\", \"Saved successfully!\")\n",
    "\n",
    "root = tk.Tk()\n",
    "root.title(\"Exit Example\")\n",
    "exit_button = tk.Button(root, text=\"Exit\", command=confirm_exit)\n",
    "exit_button.pack(padx=20, pady=20)\n",
    "root.mainloop()"
   ]
  },
  {
   "cell_type": "code",
   "execution_count": 9,
   "metadata": {},
   "outputs": [
    {
     "ename": "TclError",
     "evalue": "unknown option \"-text\"",
     "output_type": "error",
     "traceback": [
      "\u001b[1;31m---------------------------------------------------------------------------\u001b[0m",
      "\u001b[1;31mTclError\u001b[0m                                  Traceback (most recent call last)",
      "Cell \u001b[1;32mIn[9], line 6\u001b[0m\n\u001b[0;32m      3\u001b[0m root \u001b[38;5;241m=\u001b[39m tk\u001b[38;5;241m.\u001b[39mTk()\n\u001b[0;32m      5\u001b[0m textContainer \u001b[38;5;241m=\u001b[39m tk\u001b[38;5;241m.\u001b[39mFrame(root, borderwidth\u001b[38;5;241m=\u001b[39m\u001b[38;5;241m1\u001b[39m, relief\u001b[38;5;241m=\u001b[39m\u001b[38;5;124m\"\u001b[39m\u001b[38;5;124msunken\u001b[39m\u001b[38;5;124m\"\u001b[39m)\n\u001b[1;32m----> 6\u001b[0m text \u001b[38;5;241m=\u001b[39m \u001b[43mtk\u001b[49m\u001b[38;5;241;43m.\u001b[39;49m\u001b[43mText\u001b[49m\u001b[43m(\u001b[49m\u001b[43mtextContainer\u001b[49m\u001b[43m,\u001b[49m\u001b[43m \u001b[49m\u001b[43mtext\u001b[49m\u001b[38;5;241;43m=\u001b[39;49m\u001b[38;5;124;43m'\u001b[39;49m\u001b[38;5;124;43masd\u001b[39;49m\u001b[38;5;124;43m'\u001b[39;49m\u001b[43m,\u001b[49m\u001b[43mwidth\u001b[49m\u001b[38;5;241;43m=\u001b[39;49m\u001b[38;5;241;43m24\u001b[39;49m\u001b[43m,\u001b[49m\u001b[43m \u001b[49m\u001b[43mheight\u001b[49m\u001b[38;5;241;43m=\u001b[39;49m\u001b[38;5;241;43m13\u001b[39;49m\u001b[43m,\u001b[49m\u001b[43m \u001b[49m\u001b[43mwrap\u001b[49m\u001b[38;5;241;43m=\u001b[39;49m\u001b[38;5;124;43m\"\u001b[39;49m\u001b[38;5;124;43mnone\u001b[39;49m\u001b[38;5;124;43m\"\u001b[39;49m\u001b[43m,\u001b[49m\u001b[43m \u001b[49m\u001b[43mborderwidth\u001b[49m\u001b[38;5;241;43m=\u001b[39;49m\u001b[38;5;241;43m0\u001b[39;49m\u001b[43m)\u001b[49m\n\u001b[0;32m      7\u001b[0m textVsb \u001b[38;5;241m=\u001b[39m tk\u001b[38;5;241m.\u001b[39mScrollbar(textContainer, orient\u001b[38;5;241m=\u001b[39m\u001b[38;5;124m\"\u001b[39m\u001b[38;5;124mvertical\u001b[39m\u001b[38;5;124m\"\u001b[39m, command\u001b[38;5;241m=\u001b[39mtext\u001b[38;5;241m.\u001b[39myview)\n\u001b[0;32m      8\u001b[0m textHsb \u001b[38;5;241m=\u001b[39m tk\u001b[38;5;241m.\u001b[39mScrollbar(textContainer, orient\u001b[38;5;241m=\u001b[39m\u001b[38;5;124m\"\u001b[39m\u001b[38;5;124mhorizontal\u001b[39m\u001b[38;5;124m\"\u001b[39m, command\u001b[38;5;241m=\u001b[39mtext\u001b[38;5;241m.\u001b[39mxview)\n",
      "File \u001b[1;32mc:\\Users\\RAJ\\miniconda3\\envs\\tf\\lib\\tkinter\\__init__.py:3559\u001b[0m, in \u001b[0;36mText.__init__\u001b[1;34m(self, master, cnf, **kw)\u001b[0m\n\u001b[0;32m   3536\u001b[0m \u001b[38;5;28;01mdef\u001b[39;00m \u001b[38;5;21m__init__\u001b[39m(\u001b[38;5;28mself\u001b[39m, master\u001b[38;5;241m=\u001b[39m\u001b[38;5;28;01mNone\u001b[39;00m, cnf\u001b[38;5;241m=\u001b[39m{}, \u001b[38;5;241m*\u001b[39m\u001b[38;5;241m*\u001b[39mkw):\n\u001b[0;32m   3537\u001b[0m \u001b[38;5;250m    \u001b[39m\u001b[38;5;124;03m\"\"\"Construct a text widget with the parent MASTER.\u001b[39;00m\n\u001b[0;32m   3538\u001b[0m \n\u001b[0;32m   3539\u001b[0m \u001b[38;5;124;03m    STANDARD OPTIONS\u001b[39;00m\n\u001b[1;32m   (...)\u001b[0m\n\u001b[0;32m   3557\u001b[0m \n\u001b[0;32m   3558\u001b[0m \u001b[38;5;124;03m    \"\"\"\u001b[39;00m\n\u001b[1;32m-> 3559\u001b[0m     \u001b[43mWidget\u001b[49m\u001b[38;5;241;43m.\u001b[39;49m\u001b[38;5;21;43m__init__\u001b[39;49m\u001b[43m(\u001b[49m\u001b[38;5;28;43mself\u001b[39;49m\u001b[43m,\u001b[49m\u001b[43m \u001b[49m\u001b[43mmaster\u001b[49m\u001b[43m,\u001b[49m\u001b[43m \u001b[49m\u001b[38;5;124;43m'\u001b[39;49m\u001b[38;5;124;43mtext\u001b[39;49m\u001b[38;5;124;43m'\u001b[39;49m\u001b[43m,\u001b[49m\u001b[43m \u001b[49m\u001b[43mcnf\u001b[49m\u001b[43m,\u001b[49m\u001b[43m \u001b[49m\u001b[43mkw\u001b[49m\u001b[43m)\u001b[49m\n",
      "File \u001b[1;32mc:\\Users\\RAJ\\miniconda3\\envs\\tf\\lib\\tkinter\\__init__.py:2572\u001b[0m, in \u001b[0;36mBaseWidget.__init__\u001b[1;34m(self, master, widgetName, cnf, kw, extra)\u001b[0m\n\u001b[0;32m   2570\u001b[0m \u001b[38;5;28;01mfor\u001b[39;00m k, v \u001b[38;5;129;01min\u001b[39;00m classes:\n\u001b[0;32m   2571\u001b[0m     \u001b[38;5;28;01mdel\u001b[39;00m cnf[k]\n\u001b[1;32m-> 2572\u001b[0m \u001b[38;5;28;43mself\u001b[39;49m\u001b[38;5;241;43m.\u001b[39;49m\u001b[43mtk\u001b[49m\u001b[38;5;241;43m.\u001b[39;49m\u001b[43mcall\u001b[49m\u001b[43m(\u001b[49m\n\u001b[0;32m   2573\u001b[0m \u001b[43m    \u001b[49m\u001b[43m(\u001b[49m\u001b[43mwidgetName\u001b[49m\u001b[43m,\u001b[49m\u001b[43m \u001b[49m\u001b[38;5;28;43mself\u001b[39;49m\u001b[38;5;241;43m.\u001b[39;49m\u001b[43m_w\u001b[49m\u001b[43m)\u001b[49m\u001b[43m \u001b[49m\u001b[38;5;241;43m+\u001b[39;49m\u001b[43m \u001b[49m\u001b[43mextra\u001b[49m\u001b[43m \u001b[49m\u001b[38;5;241;43m+\u001b[39;49m\u001b[43m \u001b[49m\u001b[38;5;28;43mself\u001b[39;49m\u001b[38;5;241;43m.\u001b[39;49m\u001b[43m_options\u001b[49m\u001b[43m(\u001b[49m\u001b[43mcnf\u001b[49m\u001b[43m)\u001b[49m\u001b[43m)\u001b[49m\n\u001b[0;32m   2574\u001b[0m \u001b[38;5;28;01mfor\u001b[39;00m k, v \u001b[38;5;129;01min\u001b[39;00m classes:\n\u001b[0;32m   2575\u001b[0m     k\u001b[38;5;241m.\u001b[39mconfigure(\u001b[38;5;28mself\u001b[39m, v)\n",
      "\u001b[1;31mTclError\u001b[0m: unknown option \"-text\""
     ]
    }
   ],
   "source": [
    "import tkinter as tk\n",
    "\n",
    "root = tk.Tk()\n",
    "\n",
    "textContainer = tk.Frame(root, borderwidth=1, relief=\"sunken\")\n",
    "text = tk.Text(textContainer, text='asd',width=24, height=13, wrap=\"none\", borderwidth=0)\n",
    "textVsb = tk.Scrollbar(textContainer, orient=\"vertical\", command=text.yview)\n",
    "textHsb = tk.Scrollbar(textContainer, orient=\"horizontal\", command=text.xview)\n",
    "text.configure(yscrollcommand=textVsb.set, xscrollcommand=textHsb.set)\n",
    "\n",
    "\n",
    "\n",
    "\n",
    "\n",
    "textContainer.pack(side=\"top\", fill=\"both\", expand=True)\n",
    "\n",
    "root.mainloop()"
   ]
  }
 ],
 "metadata": {
  "kernelspec": {
   "display_name": "tf",
   "language": "python",
   "name": "python3"
  },
  "language_info": {
   "codemirror_mode": {
    "name": "ipython",
    "version": 3
   },
   "file_extension": ".py",
   "mimetype": "text/x-python",
   "name": "python",
   "nbconvert_exporter": "python",
   "pygments_lexer": "ipython3",
   "version": "3.9.19"
  }
 },
 "nbformat": 4,
 "nbformat_minor": 2
}
